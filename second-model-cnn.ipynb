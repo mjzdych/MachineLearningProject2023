{
 "cells": [
  {
   "cell_type": "code",
   "execution_count": 1,
   "id": "a62c2a82",
   "metadata": {
    "execution": {
     "iopub.execute_input": "2023-03-16T21:14:37.155193Z",
     "iopub.status.busy": "2023-03-16T21:14:37.154481Z",
     "iopub.status.idle": "2023-03-16T21:14:43.887346Z",
     "shell.execute_reply": "2023-03-16T21:14:43.886195Z"
    },
    "id": "wwAX6PRKRJM4",
    "papermill": {
     "duration": 6.742095,
     "end_time": "2023-03-16T21:14:43.890204",
     "exception": false,
     "start_time": "2023-03-16T21:14:37.148109",
     "status": "completed"
    },
    "tags": []
   },
   "outputs": [],
   "source": [
    "import keras,os\n",
    "from keras.models import Sequential #so that all layers are arranged in sequence\n",
    "from keras.layers import Dense, Conv2D, MaxPool2D , Flatten\n",
    "from keras.preprocessing.image import ImageDataGenerator\n",
    "import numpy as np"
   ]
  },
  {
   "cell_type": "code",
   "execution_count": 2,
   "id": "1152fde8",
   "metadata": {
    "execution": {
     "iopub.execute_input": "2023-03-16T21:14:43.900256Z",
     "iopub.status.busy": "2023-03-16T21:14:43.899638Z",
     "iopub.status.idle": "2023-03-16T21:14:57.884716Z",
     "shell.execute_reply": "2023-03-16T21:14:57.883715Z"
    },
    "id": "tJbrxKhv9Zs8",
    "outputId": "058f1782-2036-4267-f6c3-ca940d3d2797",
    "papermill": {
     "duration": 13.992639,
     "end_time": "2023-03-16T21:14:57.887088",
     "exception": false,
     "start_time": "2023-03-16T21:14:43.894449",
     "status": "completed"
    },
    "tags": []
   },
   "outputs": [
    {
     "name": "stdout",
     "output_type": "stream",
     "text": [
      "Found 37297 images belonging to 3116 classes.\n",
      "Found 7405 images belonging to 3116 classes.\n"
     ]
    }
   ],
   "source": [
    "train_dir = \"/kaggle/input/hotel-id-to-combat-human-trafficking-2022-fgvc9/train_images\"\n",
    "datagen = ImageDataGenerator(validation_split=0.2)\n",
    "\n",
    "train_generator = datagen.flow_from_directory(\n",
    "    train_dir,\n",
    "    target_size=(224, 224),\n",
    "    batch_size=32,\n",
    "    class_mode='categorical',\n",
    "    subset='training')\n",
    "\n",
    "val_generator = datagen.flow_from_directory(\n",
    "    train_dir,\n",
    "    target_size=(224, 224),\n",
    "    batch_size=32,\n",
    "    class_mode='categorical',\n",
    "    subset='validation')\n",
    "\n",
    "\n",
    "# val_generator = datagen.flow_from_directory(\n",
    "#     train_dir,\n",
    "#     target_size=(224, 224),\n",
    "#     batch_size=32,\n",
    "#     class_mode='categorical',\n",
    "#     subset='validation',\n",
    "#     shuffle=False)\n",
    "\n",
    "# # Obtain the validation features and labels\n",
    "# val_features, val_labels = val_generator.next()\n"
   ]
  },
  {
   "cell_type": "markdown",
   "id": "a097346a",
   "metadata": {
    "id": "CGhzB8VlAGaZ",
    "papermill": {
     "duration": 0.003649,
     "end_time": "2023-03-16T21:14:57.895260",
     "exception": false,
     "start_time": "2023-03-16T21:14:57.891611",
     "status": "completed"
    },
    "tags": []
   },
   "source": [
    "#CNN model"
   ]
  },
  {
   "cell_type": "code",
   "execution_count": 3,
   "id": "4cc76409",
   "metadata": {
    "execution": {
     "iopub.execute_input": "2023-03-16T21:14:57.905788Z",
     "iopub.status.busy": "2023-03-16T21:14:57.904099Z",
     "iopub.status.idle": "2023-03-16T21:15:00.925715Z",
     "shell.execute_reply": "2023-03-16T21:15:00.924881Z"
    },
    "id": "diWSxxbJ_o9G",
    "outputId": "be45210a-5211-41ed-c9ba-e40496c65fa4",
    "papermill": {
     "duration": 3.061175,
     "end_time": "2023-03-16T21:15:00.960199",
     "exception": false,
     "start_time": "2023-03-16T21:14:57.899024",
     "status": "completed"
    },
    "tags": []
   },
   "outputs": [
    {
     "name": "stdout",
     "output_type": "stream",
     "text": [
      "Model: \"sequential\"\n",
      "_________________________________________________________________\n",
      " Layer (type)                Output Shape              Param #   \n",
      "=================================================================\n",
      " conv2d (Conv2D)             (None, 224, 224, 64)      1792      \n",
      "                                                                 \n",
      " conv2d_1 (Conv2D)           (None, 224, 224, 64)      36928     \n",
      "                                                                 \n",
      " max_pooling2d (MaxPooling2D  (None, 112, 112, 64)     0         \n",
      " )                                                               \n",
      "                                                                 \n",
      " conv2d_2 (Conv2D)           (None, 112, 112, 128)     73856     \n",
      "                                                                 \n",
      " conv2d_3 (Conv2D)           (None, 112, 112, 128)     147584    \n",
      "                                                                 \n",
      " max_pooling2d_1 (MaxPooling  (None, 56, 56, 128)      0         \n",
      " 2D)                                                             \n",
      "                                                                 \n",
      " conv2d_4 (Conv2D)           (None, 56, 56, 256)       295168    \n",
      "                                                                 \n",
      " conv2d_5 (Conv2D)           (None, 56, 56, 256)       590080    \n",
      "                                                                 \n",
      " conv2d_6 (Conv2D)           (None, 56, 56, 256)       590080    \n",
      "                                                                 \n",
      " max_pooling2d_2 (MaxPooling  (None, 28, 28, 256)      0         \n",
      " 2D)                                                             \n",
      "                                                                 \n",
      " conv2d_7 (Conv2D)           (None, 28, 28, 512)       1180160   \n",
      "                                                                 \n",
      " conv2d_8 (Conv2D)           (None, 28, 28, 512)       2359808   \n",
      "                                                                 \n",
      " conv2d_9 (Conv2D)           (None, 28, 28, 512)       2359808   \n",
      "                                                                 \n",
      " max_pooling2d_3 (MaxPooling  (None, 14, 14, 512)      0         \n",
      " 2D)                                                             \n",
      "                                                                 \n",
      " conv2d_10 (Conv2D)          (None, 14, 14, 512)       2359808   \n",
      "                                                                 \n",
      " conv2d_11 (Conv2D)          (None, 14, 14, 512)       2359808   \n",
      "                                                                 \n",
      " conv2d_12 (Conv2D)          (None, 14, 14, 512)       2359808   \n",
      "                                                                 \n",
      " max_pooling2d_4 (MaxPooling  (None, 7, 7, 512)        0         \n",
      " 2D)                                                             \n",
      "                                                                 \n",
      " flatten (Flatten)           (None, 25088)             0         \n",
      "                                                                 \n",
      " dense (Dense)               (None, 4096)              102764544 \n",
      "                                                                 \n",
      " dense_1 (Dense)             (None, 4096)              16781312  \n",
      "                                                                 \n",
      " dense_2 (Dense)             (None, 3116)              12766252  \n",
      "                                                                 \n",
      "=================================================================\n",
      "Total params: 147,026,796\n",
      "Trainable params: 147,026,796\n",
      "Non-trainable params: 0\n",
      "_________________________________________________________________\n"
     ]
    }
   ],
   "source": [
    "model = Sequential()\n",
    "model.add(Conv2D(input_shape=(224,224,3),filters=64,kernel_size=(3,3),padding=\"same\", activation=\"relu\"))\n",
    "model.add(Conv2D(filters=64,kernel_size=(3,3),padding=\"same\", activation=\"relu\"))\n",
    "model.add(MaxPool2D(pool_size=(2,2),strides=(2,2)))\n",
    "model.add(Conv2D(filters=128, kernel_size=(3,3), padding=\"same\", activation=\"relu\"))\n",
    "model.add(Conv2D(filters=128, kernel_size=(3,3), padding=\"same\", activation=\"relu\"))\n",
    "model.add(MaxPool2D(pool_size=(2,2),strides=(2,2)))\n",
    "model.add(Conv2D(filters=256, kernel_size=(3,3), padding=\"same\", activation=\"relu\"))\n",
    "model.add(Conv2D(filters=256, kernel_size=(3,3), padding=\"same\", activation=\"relu\"))\n",
    "model.add(Conv2D(filters=256, kernel_size=(3,3), padding=\"same\", activation=\"relu\"))\n",
    "model.add(MaxPool2D(pool_size=(2,2),strides=(2,2)))\n",
    "model.add(Conv2D(filters=512, kernel_size=(3,3), padding=\"same\", activation=\"relu\"))\n",
    "model.add(Conv2D(filters=512, kernel_size=(3,3), padding=\"same\", activation=\"relu\"))\n",
    "model.add(Conv2D(filters=512, kernel_size=(3,3), padding=\"same\", activation=\"relu\"))\n",
    "model.add(MaxPool2D(pool_size=(2,2),strides=(2,2)))\n",
    "model.add(Conv2D(filters=512, kernel_size=(3,3), padding=\"same\", activation=\"relu\"))\n",
    "model.add(Conv2D(filters=512, kernel_size=(3,3), padding=\"same\", activation=\"relu\"))\n",
    "model.add(Conv2D(filters=512, kernel_size=(3,3), padding=\"same\", activation=\"relu\"))\n",
    "model.add(MaxPool2D(pool_size=(2,2),strides=(2,2)))\n",
    "#Add fully connected layers\n",
    "model.add(Flatten())\n",
    "model.add(Dense(units=4096,activation=\"relu\"))\n",
    "model.add(Dense(units=4096,activation=\"relu\"))\n",
    "model.add(Dense(units=3116, activation=\"softmax\"))\n",
    "#Show the structure of the CNN\n",
    "model.summary()"
   ]
  },
  {
   "cell_type": "markdown",
   "id": "a11768cc",
   "metadata": {
    "id": "kxZ_qV4u_5l2",
    "papermill": {
     "duration": 0.006905,
     "end_time": "2023-03-16T21:15:00.973926",
     "exception": false,
     "start_time": "2023-03-16T21:15:00.967021",
     "status": "completed"
    },
    "tags": []
   },
   "source": [
    "# Optimization to reach global minima during training"
   ]
  },
  {
   "cell_type": "code",
   "execution_count": 4,
   "id": "7f740729",
   "metadata": {
    "execution": {
     "iopub.execute_input": "2023-03-16T21:15:00.988834Z",
     "iopub.status.busy": "2023-03-16T21:15:00.988549Z",
     "iopub.status.idle": "2023-03-16T21:15:01.004304Z",
     "shell.execute_reply": "2023-03-16T21:15:01.003415Z"
    },
    "id": "7F8ur7Re_qC7",
    "papermill": {
     "duration": 0.025547,
     "end_time": "2023-03-16T21:15:01.006416",
     "exception": false,
     "start_time": "2023-03-16T21:15:00.980869",
     "status": "completed"
    },
    "tags": []
   },
   "outputs": [],
   "source": [
    "from keras.optimizers import Adam\n",
    "opt = Adam(learning_rate=0.001)\n",
    "model.compile(optimizer=opt, loss=keras.losses.categorical_crossentropy, metrics=['accuracy'])"
   ]
  },
  {
   "cell_type": "markdown",
   "id": "09ff8156",
   "metadata": {
    "id": "uJg1XSayAaY5",
    "papermill": {
     "duration": 0.006526,
     "end_time": "2023-03-16T21:15:01.019679",
     "exception": false,
     "start_time": "2023-03-16T21:15:01.013153",
     "status": "completed"
    },
    "tags": []
   },
   "source": [
    "#Monitoring validation accuracy\n",
    "The model will only be saved to disk if the validation accuracy of the model in current epoch is greater than what it was in the last epoch."
   ]
  },
  {
   "cell_type": "code",
   "execution_count": 5,
   "id": "ea913c8c",
   "metadata": {
    "execution": {
     "iopub.execute_input": "2023-03-16T21:15:01.035017Z",
     "iopub.status.busy": "2023-03-16T21:15:01.034120Z",
     "iopub.status.idle": "2023-03-17T07:24:41.447367Z",
     "shell.execute_reply": "2023-03-17T07:24:41.446164Z"
    },
    "id": "UOIa2PryAiCA",
    "outputId": "aaaeb5f7-df04-42d2-89e6-e796636aa9cb",
    "papermill": {
     "duration": 36580.425733,
     "end_time": "2023-03-17T07:24:41.452094",
     "exception": false,
     "start_time": "2023-03-16T21:15:01.026361",
     "status": "completed"
    },
    "tags": []
   },
   "outputs": [
    {
     "name": "stdout",
     "output_type": "stream",
     "text": [
      "Epoch 1/150\n",
      "100/100 [==============================] - 253s 2s/step - loss: 40.7565 - accuracy: 0.0156 - val_loss: 7.6686 - val_accuracy: 0.0437\n",
      "Epoch 2/150\n",
      "100/100 [==============================] - 241s 2s/step - loss: 7.7080 - accuracy: 0.0253 - val_loss: 7.5397 - val_accuracy: 0.0312\n",
      "Epoch 3/150\n",
      "100/100 [==============================] - 234s 2s/step - loss: 7.6999 - accuracy: 0.0305 - val_loss: 7.3252 - val_accuracy: 0.0312\n",
      "Epoch 4/150\n",
      "100/100 [==============================] - 231s 2s/step - loss: 7.6379 - accuracy: 0.0231 - val_loss: 7.4023 - val_accuracy: 0.0500\n",
      "Epoch 5/150\n",
      "100/100 [==============================] - 236s 2s/step - loss: 7.5596 - accuracy: 0.0366 - val_loss: 7.2221 - val_accuracy: 0.0375\n",
      "Epoch 6/150\n",
      "100/100 [==============================] - 227s 2s/step - loss: 7.6026 - accuracy: 0.0284 - val_loss: 7.3906 - val_accuracy: 0.0312\n",
      "Epoch 7/150\n",
      "100/100 [==============================] - 224s 2s/step - loss: 7.5961 - accuracy: 0.0267 - val_loss: 7.2681 - val_accuracy: 0.0375\n",
      "Epoch 8/150\n",
      "100/100 [==============================] - 220s 2s/step - loss: 7.5486 - accuracy: 0.0319 - val_loss: 7.2749 - val_accuracy: 0.0656\n",
      "Epoch 9/150\n",
      "100/100 [==============================] - 220s 2s/step - loss: 7.5383 - accuracy: 0.0322 - val_loss: 7.2863 - val_accuracy: 0.0312\n",
      "Epoch 10/150\n",
      "100/100 [==============================] - 219s 2s/step - loss: 7.5289 - accuracy: 0.0286 - val_loss: 7.2812 - val_accuracy: 0.0375\n",
      "Epoch 11/150\n",
      "100/100 [==============================] - 225s 2s/step - loss: 7.5439 - accuracy: 0.0241 - val_loss: 7.2877 - val_accuracy: 0.0437\n",
      "Epoch 12/150\n",
      "100/100 [==============================] - 222s 2s/step - loss: 7.5180 - accuracy: 0.0228 - val_loss: 7.2914 - val_accuracy: 0.0312\n",
      "Epoch 13/150\n",
      "100/100 [==============================] - 218s 2s/step - loss: 7.5727 - accuracy: 0.0259 - val_loss: 7.1768 - val_accuracy: 0.0375\n",
      "Epoch 14/150\n",
      "100/100 [==============================] - 221s 2s/step - loss: 7.4854 - accuracy: 0.0309 - val_loss: 7.2218 - val_accuracy: 0.0375\n",
      "Epoch 15/150\n",
      "100/100 [==============================] - 218s 2s/step - loss: 7.5166 - accuracy: 0.0275 - val_loss: 7.2322 - val_accuracy: 0.0437\n",
      "Epoch 16/150\n",
      "100/100 [==============================] - 212s 2s/step - loss: 7.5223 - accuracy: 0.0269 - val_loss: 7.0977 - val_accuracy: 0.0344\n",
      "Epoch 17/150\n",
      "100/100 [==============================] - 232s 2s/step - loss: 7.5379 - accuracy: 0.0300 - val_loss: 7.3067 - val_accuracy: 0.0469\n",
      "Epoch 18/150\n",
      "100/100 [==============================] - 232s 2s/step - loss: 7.5081 - accuracy: 0.0291 - val_loss: 7.1198 - val_accuracy: 0.0437\n",
      "Epoch 19/150\n",
      "100/100 [==============================] - 227s 2s/step - loss: 7.5160 - accuracy: 0.0278 - val_loss: 7.1912 - val_accuracy: 0.0531\n",
      "Epoch 20/150\n",
      "100/100 [==============================] - 226s 2s/step - loss: 7.4854 - accuracy: 0.0331 - val_loss: 7.1865 - val_accuracy: 0.0344\n",
      "Epoch 21/150\n",
      "100/100 [==============================] - 221s 2s/step - loss: 7.5707 - accuracy: 0.0256 - val_loss: 7.3404 - val_accuracy: 0.0375\n",
      "Epoch 22/150\n",
      "100/100 [==============================] - 228s 2s/step - loss: 7.4960 - accuracy: 0.0288 - val_loss: 7.2040 - val_accuracy: 0.0281\n",
      "Epoch 23/150\n",
      "100/100 [==============================] - 231s 2s/step - loss: 7.4754 - accuracy: 0.0341 - val_loss: 7.2010 - val_accuracy: 0.0437\n",
      "Epoch 24/150\n",
      "100/100 [==============================] - 256s 3s/step - loss: 7.4943 - accuracy: 0.0275 - val_loss: 7.3036 - val_accuracy: 0.0312\n",
      "Epoch 25/150\n",
      "100/100 [==============================] - 228s 2s/step - loss: 7.4982 - accuracy: 0.0288 - val_loss: 7.2163 - val_accuracy: 0.0469\n",
      "Epoch 26/150\n",
      "100/100 [==============================] - 234s 2s/step - loss: 7.5107 - accuracy: 0.0294 - val_loss: 7.2927 - val_accuracy: 0.0375\n",
      "Epoch 27/150\n",
      "100/100 [==============================] - 231s 2s/step - loss: 7.4654 - accuracy: 0.0312 - val_loss: 7.0759 - val_accuracy: 0.0312\n",
      "Epoch 28/150\n",
      "100/100 [==============================] - 234s 2s/step - loss: 7.5282 - accuracy: 0.0301 - val_loss: 7.3764 - val_accuracy: 0.0250\n",
      "Epoch 29/150\n",
      "100/100 [==============================] - 238s 2s/step - loss: 7.4794 - accuracy: 0.0272 - val_loss: 7.1712 - val_accuracy: 0.0344\n",
      "Epoch 30/150\n",
      "100/100 [==============================] - 235s 2s/step - loss: 7.5259 - accuracy: 0.0278 - val_loss: 7.2810 - val_accuracy: 0.0469\n",
      "Epoch 31/150\n",
      "100/100 [==============================] - 233s 2s/step - loss: 7.4596 - accuracy: 0.0319 - val_loss: 7.2553 - val_accuracy: 0.0344\n",
      "Epoch 32/150\n",
      "100/100 [==============================] - 233s 2s/step - loss: 7.5244 - accuracy: 0.0244 - val_loss: 7.3252 - val_accuracy: 0.0188\n",
      "Epoch 33/150\n",
      "100/100 [==============================] - 243s 2s/step - loss: 7.5074 - accuracy: 0.0256 - val_loss: 7.1898 - val_accuracy: 0.0500\n",
      "Epoch 34/150\n",
      "100/100 [==============================] - 235s 2s/step - loss: 7.4729 - accuracy: 0.0312 - val_loss: 7.2892 - val_accuracy: 0.0437\n",
      "Epoch 35/150\n",
      "100/100 [==============================] - 259s 3s/step - loss: 7.5103 - accuracy: 0.0281 - val_loss: 7.1795 - val_accuracy: 0.0375\n",
      "Epoch 36/150\n",
      "100/100 [==============================] - 246s 2s/step - loss: 7.5192 - accuracy: 0.0278 - val_loss: 7.2721 - val_accuracy: 0.0344\n",
      "Epoch 37/150\n",
      "100/100 [==============================] - 232s 2s/step - loss: 7.5038 - accuracy: 0.0216 - val_loss: 7.2139 - val_accuracy: 0.0437\n",
      "Epoch 38/150\n",
      "100/100 [==============================] - 225s 2s/step - loss: 7.4989 - accuracy: 0.0309 - val_loss: 7.2097 - val_accuracy: 0.0250\n",
      "Epoch 39/150\n",
      "100/100 [==============================] - 248s 2s/step - loss: 7.5360 - accuracy: 0.0273 - val_loss: 7.2604 - val_accuracy: 0.0250\n",
      "Epoch 40/150\n",
      "100/100 [==============================] - 231s 2s/step - loss: 7.5029 - accuracy: 0.0303 - val_loss: 7.2491 - val_accuracy: 0.0281\n",
      "Epoch 41/150\n",
      "100/100 [==============================] - 261s 3s/step - loss: 7.5087 - accuracy: 0.0253 - val_loss: 7.3212 - val_accuracy: 0.0188\n",
      "Epoch 42/150\n",
      "100/100 [==============================] - 238s 2s/step - loss: 7.4900 - accuracy: 0.0334 - val_loss: 7.2044 - val_accuracy: 0.0500\n",
      "Epoch 43/150\n",
      "100/100 [==============================] - 229s 2s/step - loss: 7.4861 - accuracy: 0.0350 - val_loss: 7.3191 - val_accuracy: 0.0281\n",
      "Epoch 44/150\n",
      "100/100 [==============================] - 237s 2s/step - loss: 7.4688 - accuracy: 0.0297 - val_loss: 7.1945 - val_accuracy: 0.0344\n",
      "Epoch 45/150\n",
      "100/100 [==============================] - 234s 2s/step - loss: 7.4812 - accuracy: 0.0284 - val_loss: 7.2402 - val_accuracy: 0.0500\n",
      "Epoch 46/150\n",
      "100/100 [==============================] - 236s 2s/step - loss: 7.4854 - accuracy: 0.0269 - val_loss: 7.2487 - val_accuracy: 0.0281\n",
      "Epoch 47/150\n",
      "100/100 [==============================] - 229s 2s/step - loss: 7.4850 - accuracy: 0.0353 - val_loss: 7.2372 - val_accuracy: 0.0375\n",
      "Epoch 48/150\n",
      "100/100 [==============================] - 234s 2s/step - loss: 7.5211 - accuracy: 0.0288 - val_loss: 7.2585 - val_accuracy: 0.0406\n",
      "Epoch 49/150\n",
      "100/100 [==============================] - 240s 2s/step - loss: 7.4970 - accuracy: 0.0266 - val_loss: 7.1624 - val_accuracy: 0.0562\n",
      "Epoch 50/150\n",
      "100/100 [==============================] - 233s 2s/step - loss: 7.4830 - accuracy: 0.0309 - val_loss: 7.2253 - val_accuracy: 0.0250\n",
      "Epoch 51/150\n",
      "100/100 [==============================] - 228s 2s/step - loss: 7.5095 - accuracy: 0.0369 - val_loss: 7.1750 - val_accuracy: 0.0656\n",
      "Epoch 52/150\n",
      "100/100 [==============================] - 222s 2s/step - loss: 7.4717 - accuracy: 0.0305 - val_loss: 7.1755 - val_accuracy: 0.0344\n",
      "Epoch 53/150\n",
      "100/100 [==============================] - 229s 2s/step - loss: 7.4803 - accuracy: 0.0294 - val_loss: 7.3306 - val_accuracy: 0.0250\n",
      "Epoch 54/150\n",
      "100/100 [==============================] - 221s 2s/step - loss: 7.4951 - accuracy: 0.0309 - val_loss: 7.2847 - val_accuracy: 0.0469\n",
      "Epoch 55/150\n",
      "100/100 [==============================] - 227s 2s/step - loss: 7.4691 - accuracy: 0.0309 - val_loss: 7.2648 - val_accuracy: 0.0344\n",
      "Epoch 56/150\n",
      "100/100 [==============================] - 224s 2s/step - loss: 7.4606 - accuracy: 0.0356 - val_loss: 7.1692 - val_accuracy: 0.0375\n",
      "Epoch 57/150\n",
      "100/100 [==============================] - 231s 2s/step - loss: 7.4980 - accuracy: 0.0278 - val_loss: 7.2671 - val_accuracy: 0.0219\n",
      "Epoch 58/150\n",
      "100/100 [==============================] - 244s 2s/step - loss: 7.4974 - accuracy: 0.0319 - val_loss: 7.2274 - val_accuracy: 0.0250\n",
      "Epoch 59/150\n",
      "100/100 [==============================] - 228s 2s/step - loss: 7.5077 - accuracy: 0.0247 - val_loss: 7.1445 - val_accuracy: 0.0344\n",
      "Epoch 60/150\n",
      "100/100 [==============================] - 233s 2s/step - loss: 7.4822 - accuracy: 0.0347 - val_loss: 7.2165 - val_accuracy: 0.0500\n",
      "Epoch 61/150\n",
      "100/100 [==============================] - 222s 2s/step - loss: 7.5040 - accuracy: 0.0297 - val_loss: 7.1826 - val_accuracy: 0.0375\n",
      "Epoch 62/150\n",
      "100/100 [==============================] - 225s 2s/step - loss: 7.4406 - accuracy: 0.0328 - val_loss: 7.3825 - val_accuracy: 0.0344\n",
      "Epoch 63/150\n",
      "100/100 [==============================] - 227s 2s/step - loss: 7.4533 - accuracy: 0.0278 - val_loss: 7.2212 - val_accuracy: 0.0437\n",
      "Epoch 64/150\n",
      "100/100 [==============================] - 222s 2s/step - loss: 7.4756 - accuracy: 0.0319 - val_loss: 7.3211 - val_accuracy: 0.0281\n",
      "Epoch 65/150\n",
      "100/100 [==============================] - 224s 2s/step - loss: 7.4875 - accuracy: 0.0283 - val_loss: 7.2638 - val_accuracy: 0.0281\n",
      "Epoch 66/150\n",
      "100/100 [==============================] - 226s 2s/step - loss: 7.4809 - accuracy: 0.0316 - val_loss: 7.4134 - val_accuracy: 0.0188\n",
      "Epoch 67/150\n",
      "100/100 [==============================] - 226s 2s/step - loss: 7.4961 - accuracy: 0.0297 - val_loss: 7.3516 - val_accuracy: 0.0344\n",
      "Epoch 68/150\n",
      "100/100 [==============================] - 225s 2s/step - loss: 7.5035 - accuracy: 0.0256 - val_loss: 7.2225 - val_accuracy: 0.0469\n",
      "Epoch 69/150\n",
      "100/100 [==============================] - 237s 2s/step - loss: 7.4665 - accuracy: 0.0323 - val_loss: 7.2750 - val_accuracy: 0.0406\n",
      "Epoch 70/150\n",
      "100/100 [==============================] - 229s 2s/step - loss: 7.5075 - accuracy: 0.0250 - val_loss: 7.1809 - val_accuracy: 0.0188\n",
      "Epoch 71/150\n",
      "100/100 [==============================] - 230s 2s/step - loss: 7.5002 - accuracy: 0.0275 - val_loss: 7.1124 - val_accuracy: 0.0375\n",
      "Epoch 72/150\n",
      "100/100 [==============================] - 227s 2s/step - loss: 7.4738 - accuracy: 0.0356 - val_loss: 7.2670 - val_accuracy: 0.0219\n",
      "Epoch 73/150\n",
      "100/100 [==============================] - 224s 2s/step - loss: 7.4918 - accuracy: 0.0317 - val_loss: 7.2471 - val_accuracy: 0.0312\n",
      "Epoch 74/150\n",
      "100/100 [==============================] - 228s 2s/step - loss: 7.5187 - accuracy: 0.0275 - val_loss: 7.1084 - val_accuracy: 0.0344\n",
      "Epoch 75/150\n",
      "100/100 [==============================] - 216s 2s/step - loss: 7.4740 - accuracy: 0.0256 - val_loss: 7.2570 - val_accuracy: 0.0344\n",
      "Epoch 76/150\n",
      "100/100 [==============================] - 222s 2s/step - loss: 7.4959 - accuracy: 0.0281 - val_loss: 7.0887 - val_accuracy: 0.0500\n",
      "Epoch 77/150\n",
      "100/100 [==============================] - 227s 2s/step - loss: 7.4651 - accuracy: 0.0300 - val_loss: 7.1421 - val_accuracy: 0.0562\n",
      "Epoch 78/150\n",
      "100/100 [==============================] - 218s 2s/step - loss: 7.4959 - accuracy: 0.0316 - val_loss: 7.4614 - val_accuracy: 0.0250\n",
      "Epoch 79/150\n",
      "100/100 [==============================] - 220s 2s/step - loss: 7.4874 - accuracy: 0.0266 - val_loss: 7.2671 - val_accuracy: 0.0312\n",
      "Epoch 80/150\n",
      "100/100 [==============================] - 215s 2s/step - loss: 7.4900 - accuracy: 0.0261 - val_loss: 7.1963 - val_accuracy: 0.0500\n",
      "Epoch 81/150\n",
      "100/100 [==============================] - 226s 2s/step - loss: 7.4642 - accuracy: 0.0334 - val_loss: 7.0915 - val_accuracy: 0.0344\n",
      "Epoch 82/150\n",
      "100/100 [==============================] - 226s 2s/step - loss: 7.4650 - accuracy: 0.0300 - val_loss: 7.2794 - val_accuracy: 0.0500\n",
      "Epoch 83/150\n",
      "100/100 [==============================] - 233s 2s/step - loss: 7.4268 - accuracy: 0.0316 - val_loss: 7.1443 - val_accuracy: 0.0312\n",
      "Epoch 84/150\n",
      "100/100 [==============================] - 230s 2s/step - loss: 7.4613 - accuracy: 0.0334 - val_loss: 7.1449 - val_accuracy: 0.0437\n",
      "Epoch 85/150\n",
      "100/100 [==============================] - 223s 2s/step - loss: 7.4616 - accuracy: 0.0295 - val_loss: 7.0155 - val_accuracy: 0.0594\n",
      "Epoch 86/150\n",
      "100/100 [==============================] - 231s 2s/step - loss: 7.5387 - accuracy: 0.0275 - val_loss: 7.3378 - val_accuracy: 0.0250\n",
      "Epoch 87/150\n",
      "100/100 [==============================] - 235s 2s/step - loss: 7.5252 - accuracy: 0.0312 - val_loss: 7.3514 - val_accuracy: 0.0219\n",
      "Epoch 88/150\n",
      "100/100 [==============================] - 222s 2s/step - loss: 7.4817 - accuracy: 0.0306 - val_loss: 7.2062 - val_accuracy: 0.0344\n",
      "Epoch 89/150\n",
      "100/100 [==============================] - 225s 2s/step - loss: 7.4338 - accuracy: 0.0309 - val_loss: 7.2154 - val_accuracy: 0.0562\n",
      "Epoch 90/150\n",
      "100/100 [==============================] - 219s 2s/step - loss: 7.5049 - accuracy: 0.0288 - val_loss: 7.3409 - val_accuracy: 0.0219\n",
      "Epoch 91/150\n",
      "100/100 [==============================] - 222s 2s/step - loss: 7.5321 - accuracy: 0.0284 - val_loss: 7.2838 - val_accuracy: 0.0375\n",
      "Epoch 92/150\n",
      "100/100 [==============================] - 224s 2s/step - loss: 7.4581 - accuracy: 0.0322 - val_loss: 7.3311 - val_accuracy: 0.0219\n",
      "Epoch 93/150\n",
      "100/100 [==============================] - 223s 2s/step - loss: 7.4490 - accuracy: 0.0322 - val_loss: 7.2918 - val_accuracy: 0.0406\n",
      "Epoch 94/150\n",
      "100/100 [==============================] - 221s 2s/step - loss: 7.4557 - accuracy: 0.0338 - val_loss: 7.3046 - val_accuracy: 0.0406\n",
      "Epoch 95/150\n",
      "100/100 [==============================] - 222s 2s/step - loss: 7.4607 - accuracy: 0.0319 - val_loss: 7.3470 - val_accuracy: 0.0188\n",
      "Epoch 96/150\n",
      "100/100 [==============================] - 213s 2s/step - loss: 7.4894 - accuracy: 0.0278 - val_loss: 7.2059 - val_accuracy: 0.0375\n",
      "Epoch 97/150\n",
      "100/100 [==============================] - 229s 2s/step - loss: 7.5053 - accuracy: 0.0278 - val_loss: 7.2199 - val_accuracy: 0.0500\n",
      "Epoch 98/150\n",
      "100/100 [==============================] - 218s 2s/step - loss: 7.4649 - accuracy: 0.0319 - val_loss: 7.2429 - val_accuracy: 0.0406\n",
      "Epoch 99/150\n",
      "100/100 [==============================] - 217s 2s/step - loss: 7.4793 - accuracy: 0.0305 - val_loss: 7.1624 - val_accuracy: 0.0250\n",
      "Epoch 100/150\n",
      "100/100 [==============================] - 215s 2s/step - loss: 7.4866 - accuracy: 0.0284 - val_loss: 7.1384 - val_accuracy: 0.0500\n",
      "Epoch 101/150\n",
      "100/100 [==============================] - 218s 2s/step - loss: 7.4770 - accuracy: 0.0322 - val_loss: 7.2303 - val_accuracy: 0.0469\n",
      "Epoch 102/150\n",
      "100/100 [==============================] - 222s 2s/step - loss: 7.4838 - accuracy: 0.0309 - val_loss: 7.2757 - val_accuracy: 0.0312\n",
      "Epoch 103/150\n",
      "100/100 [==============================] - 218s 2s/step - loss: 7.4542 - accuracy: 0.0356 - val_loss: 7.1221 - val_accuracy: 0.0375\n",
      "Epoch 104/150\n",
      "100/100 [==============================] - 215s 2s/step - loss: 7.4607 - accuracy: 0.0344 - val_loss: 7.2049 - val_accuracy: 0.0312\n",
      "Epoch 105/150\n",
      "100/100 [==============================] - 220s 2s/step - loss: 7.3852 - accuracy: 0.0359 - val_loss: 7.3222 - val_accuracy: 0.0375\n",
      "Epoch 106/150\n",
      "100/100 [==============================] - 218s 2s/step - loss: 7.4639 - accuracy: 0.0288 - val_loss: 7.2884 - val_accuracy: 0.0250\n",
      "Epoch 107/150\n",
      "100/100 [==============================] - 217s 2s/step - loss: 7.4833 - accuracy: 0.0284 - val_loss: 7.1989 - val_accuracy: 0.0344\n",
      "Epoch 108/150\n",
      "100/100 [==============================] - 217s 2s/step - loss: 7.4987 - accuracy: 0.0284 - val_loss: 7.2578 - val_accuracy: 0.0531\n",
      "Epoch 109/150\n",
      "100/100 [==============================] - 221s 2s/step - loss: 7.4965 - accuracy: 0.0288 - val_loss: 7.2746 - val_accuracy: 0.0344\n",
      "Epoch 110/150\n",
      "100/100 [==============================] - 211s 2s/step - loss: 7.5334 - accuracy: 0.0278 - val_loss: 7.0339 - val_accuracy: 0.0781\n",
      "Epoch 111/150\n",
      "100/100 [==============================] - 212s 2s/step - loss: 7.4432 - accuracy: 0.0322 - val_loss: 7.3162 - val_accuracy: 0.0188\n",
      "Epoch 112/150\n",
      "100/100 [==============================] - 210s 2s/step - loss: 7.4950 - accuracy: 0.0303 - val_loss: 7.1504 - val_accuracy: 0.0344\n",
      "Epoch 113/150\n",
      "100/100 [==============================] - 215s 2s/step - loss: 7.4617 - accuracy: 0.0272 - val_loss: 7.0993 - val_accuracy: 0.0375\n",
      "Epoch 114/150\n",
      "100/100 [==============================] - 212s 2s/step - loss: 7.4942 - accuracy: 0.0294 - val_loss: 7.1761 - val_accuracy: 0.0312\n",
      "Epoch 115/150\n",
      "100/100 [==============================] - 223s 2s/step - loss: 7.4640 - accuracy: 0.0309 - val_loss: 7.1191 - val_accuracy: 0.0531\n",
      "Epoch 116/150\n",
      "100/100 [==============================] - 221s 2s/step - loss: 7.4929 - accuracy: 0.0275 - val_loss: 7.1074 - val_accuracy: 0.0406\n",
      "Epoch 117/150\n",
      "100/100 [==============================] - 221s 2s/step - loss: 7.5111 - accuracy: 0.0294 - val_loss: 7.1361 - val_accuracy: 0.0437\n",
      "Epoch 118/150\n",
      "100/100 [==============================] - 215s 2s/step - loss: 7.4750 - accuracy: 0.0319 - val_loss: 7.1180 - val_accuracy: 0.0406\n",
      "Epoch 119/150\n",
      "100/100 [==============================] - 215s 2s/step - loss: 7.5092 - accuracy: 0.0359 - val_loss: 7.2182 - val_accuracy: 0.0375\n",
      "Epoch 120/150\n",
      "100/100 [==============================] - 216s 2s/step - loss: 7.5061 - accuracy: 0.0272 - val_loss: 7.3249 - val_accuracy: 0.0437\n",
      "Epoch 121/150\n",
      "100/100 [==============================] - 211s 2s/step - loss: 7.4671 - accuracy: 0.0312 - val_loss: 7.1895 - val_accuracy: 0.0531\n",
      "Epoch 122/150\n",
      "100/100 [==============================] - 216s 2s/step - loss: 7.4627 - accuracy: 0.0300 - val_loss: 7.2717 - val_accuracy: 0.0312\n",
      "Epoch 123/150\n",
      "100/100 [==============================] - 229s 2s/step - loss: 7.4786 - accuracy: 0.0278 - val_loss: 7.2259 - val_accuracy: 0.0437\n",
      "Epoch 124/150\n",
      "100/100 [==============================] - 210s 2s/step - loss: 7.4787 - accuracy: 0.0303 - val_loss: 7.2282 - val_accuracy: 0.0344\n",
      "Epoch 125/150\n",
      "100/100 [==============================] - 222s 2s/step - loss: 7.4878 - accuracy: 0.0312 - val_loss: 7.0759 - val_accuracy: 0.0437\n",
      "Epoch 126/150\n",
      "100/100 [==============================] - 218s 2s/step - loss: 7.4942 - accuracy: 0.0269 - val_loss: 7.3055 - val_accuracy: 0.0250\n",
      "Epoch 127/150\n",
      "100/100 [==============================] - 220s 2s/step - loss: 7.4657 - accuracy: 0.0322 - val_loss: 7.1078 - val_accuracy: 0.0344\n",
      "Epoch 128/150\n",
      "100/100 [==============================] - 214s 2s/step - loss: 7.4995 - accuracy: 0.0266 - val_loss: 7.1278 - val_accuracy: 0.0469\n",
      "Epoch 129/150\n",
      "100/100 [==============================] - 225s 2s/step - loss: 7.4757 - accuracy: 0.0291 - val_loss: 7.1719 - val_accuracy: 0.0594\n",
      "Epoch 130/150\n",
      "100/100 [==============================] - 220s 2s/step - loss: 7.4998 - accuracy: 0.0250 - val_loss: 7.2201 - val_accuracy: 0.0437\n",
      "Epoch 131/150\n",
      "100/100 [==============================] - 212s 2s/step - loss: 7.4722 - accuracy: 0.0309 - val_loss: 7.2561 - val_accuracy: 0.0406\n",
      "Epoch 132/150\n",
      "100/100 [==============================] - 223s 2s/step - loss: 7.5133 - accuracy: 0.0295 - val_loss: 7.3345 - val_accuracy: 0.0312\n",
      "Epoch 133/150\n",
      "100/100 [==============================] - 224s 2s/step - loss: 7.5025 - accuracy: 0.0288 - val_loss: 7.1607 - val_accuracy: 0.0344\n",
      "Epoch 134/150\n",
      "100/100 [==============================] - 214s 2s/step - loss: 7.4682 - accuracy: 0.0297 - val_loss: 7.1862 - val_accuracy: 0.0344\n",
      "Epoch 135/150\n",
      "100/100 [==============================] - 207s 2s/step - loss: 7.4521 - accuracy: 0.0325 - val_loss: 7.2104 - val_accuracy: 0.0375\n",
      "Epoch 136/150\n",
      "100/100 [==============================] - 220s 2s/step - loss: 7.5080 - accuracy: 0.0259 - val_loss: 7.2335 - val_accuracy: 0.0375\n",
      "Epoch 137/150\n",
      "100/100 [==============================] - 208s 2s/step - loss: 7.5234 - accuracy: 0.0272 - val_loss: 7.1850 - val_accuracy: 0.0469\n",
      "Epoch 138/150\n",
      "100/100 [==============================] - 220s 2s/step - loss: 7.4634 - accuracy: 0.0312 - val_loss: 7.1776 - val_accuracy: 0.0312\n",
      "Epoch 139/150\n",
      "100/100 [==============================] - 218s 2s/step - loss: 7.4605 - accuracy: 0.0281 - val_loss: 7.1415 - val_accuracy: 0.0469\n",
      "Epoch 140/150\n",
      "100/100 [==============================] - 215s 2s/step - loss: 7.4488 - accuracy: 0.0297 - val_loss: 7.1947 - val_accuracy: 0.0312\n",
      "Epoch 141/150\n",
      "100/100 [==============================] - 218s 2s/step - loss: 7.4748 - accuracy: 0.0322 - val_loss: 7.1639 - val_accuracy: 0.0469\n",
      "Epoch 142/150\n",
      "100/100 [==============================] - 208s 2s/step - loss: 7.5040 - accuracy: 0.0253 - val_loss: 7.2901 - val_accuracy: 0.0250\n",
      "Epoch 143/150\n",
      "100/100 [==============================] - 215s 2s/step - loss: 7.4941 - accuracy: 0.0291 - val_loss: 7.3730 - val_accuracy: 0.0281\n",
      "Epoch 144/150\n",
      "100/100 [==============================] - 220s 2s/step - loss: 7.4398 - accuracy: 0.0319 - val_loss: 7.1612 - val_accuracy: 0.0250\n",
      "Epoch 145/150\n",
      "100/100 [==============================] - 216s 2s/step - loss: 7.5129 - accuracy: 0.0331 - val_loss: 7.2403 - val_accuracy: 0.0437\n",
      "Epoch 146/150\n",
      "100/100 [==============================] - 219s 2s/step - loss: 7.4963 - accuracy: 0.0338 - val_loss: 7.1173 - val_accuracy: 0.0594\n",
      "Epoch 147/150\n",
      "100/100 [==============================] - 217s 2s/step - loss: 7.4975 - accuracy: 0.0291 - val_loss: 7.1685 - val_accuracy: 0.0625\n",
      "Epoch 148/150\n",
      "100/100 [==============================] - 213s 2s/step - loss: 7.5072 - accuracy: 0.0225 - val_loss: 7.3843 - val_accuracy: 0.0312\n",
      "Epoch 149/150\n",
      "100/100 [==============================] - 216s 2s/step - loss: 7.4914 - accuracy: 0.0319 - val_loss: 7.1343 - val_accuracy: 0.0656\n",
      "Epoch 150/150\n",
      "100/100 [==============================] - 215s 2s/step - loss: 7.4793 - accuracy: 0.0294 - val_loss: 7.2542 - val_accuracy: 0.0375\n"
     ]
    }
   ],
   "source": [
    "from keras.callbacks import ModelCheckpoint, EarlyStopping\n",
    "checkpoint = ModelCheckpoint(\"vgg16_1.h5\", monitor='val_loss', verbose=1, save_best_only=True, save_weights_only=False, mode='auto', save_freq=1)\n",
    "#early = EarlyStopping(monitor='val_loss', min_delta=0, patience=20, verbose=1, mode='auto')\n",
    "hist = model.fit(train_generator, epochs=150, steps_per_epoch=100, validation_data=val_generator, validation_steps=10)\n",
    "\n",
    "\n",
    "# hist = model.fit(train_generator, epochs=1, steps_per_epoch=2, validation_data=val_generator, validation_steps=10, callbacks=[checkpoint, early])\n",
    "# for key in hist.history:\n",
    "#   print(key)\n",
    "#hist = model.fit(train_generator, epochs=100, validation_data=(val_features, val_labels), callbacks=[checkpoint, early])\n",
    "\n",
    "#hist = model.fit(train_generator, epochs=100, steps_per_epoch=100, validation_data=(val_features, val_labels), callbacks=[checkpoint, early])\n",
    "\n",
    "#hist = model.fit(train_generator, epochs=10, steps_per_epoch=8, validation_data=(val_features, val_labels), callbacks=[checkpoint, early])\n",
    "\n",
    "# hist = model.fit(train_generator, epochs=10, steps_per_epoch=100, validation_data=val_generator, validation_steps=10, callbacks=[checkpoint, early])\n",
    "# hist = model.fit_generator(steps_per_epoch=8,generator=train_generator, validation_data= val_generator, validation_steps=10,epochs=10,callbacks=[checkpoint,early])"
   ]
  },
  {
   "cell_type": "markdown",
   "id": "d2414eba",
   "metadata": {
    "papermill": {
     "duration": 0.841054,
     "end_time": "2023-03-17T07:24:43.128536",
     "exception": false,
     "start_time": "2023-03-17T07:24:42.287482",
     "status": "completed"
    },
    "tags": []
   },
   "source": [
    "**Save the model**"
   ]
  },
  {
   "cell_type": "code",
   "execution_count": 6,
   "id": "9b7df7ca",
   "metadata": {
    "execution": {
     "iopub.execute_input": "2023-03-17T07:24:44.907615Z",
     "iopub.status.busy": "2023-03-17T07:24:44.906583Z",
     "iopub.status.idle": "2023-03-17T07:24:50.973891Z",
     "shell.execute_reply": "2023-03-17T07:24:50.972137Z"
    },
    "papermill": {
     "duration": 6.902721,
     "end_time": "2023-03-17T07:24:50.980201",
     "exception": false,
     "start_time": "2023-03-17T07:24:44.077480",
     "status": "completed"
    },
    "tags": []
   },
   "outputs": [],
   "source": [
    "model.save(\"try_model.h5\")\n"
   ]
  },
  {
   "cell_type": "markdown",
   "id": "86ac4b95",
   "metadata": {
    "papermill": {
     "duration": 0.886251,
     "end_time": "2023-03-17T07:24:52.973922",
     "exception": false,
     "start_time": "2023-03-17T07:24:52.087671",
     "status": "completed"
    },
    "tags": []
   },
   "source": [
    "**Saving as json file**"
   ]
  },
  {
   "cell_type": "code",
   "execution_count": 7,
   "id": "27423b71",
   "metadata": {
    "execution": {
     "iopub.execute_input": "2023-03-17T07:24:54.876339Z",
     "iopub.status.busy": "2023-03-17T07:24:54.875834Z",
     "iopub.status.idle": "2023-03-17T07:24:56.510221Z",
     "shell.execute_reply": "2023-03-17T07:24:56.508430Z"
    },
    "papermill": {
     "duration": 2.523559,
     "end_time": "2023-03-17T07:24:56.511973",
     "exception": true,
     "start_time": "2023-03-17T07:24:53.988414",
     "status": "failed"
    },
    "tags": []
   },
   "outputs": [
    {
     "ename": "NameError",
     "evalue": "name 'test_images' is not defined",
     "output_type": "error",
     "traceback": [
      "\u001b[0;31m---------------------------------------------------------------------------\u001b[0m",
      "\u001b[0;31mNameError\u001b[0m                                 Traceback (most recent call last)",
      "\u001b[0;32m/tmp/ipykernel_24/1779619609.py\u001b[0m in \u001b[0;36m<module>\u001b[0;34m\u001b[0m\n\u001b[1;32m      8\u001b[0m \u001b[0mmodel\u001b[0m\u001b[0;34m.\u001b[0m\u001b[0msave_weights\u001b[0m\u001b[0;34m(\u001b[0m\u001b[0;34m'FashionMNIST_weights.h5'\u001b[0m\u001b[0;34m)\u001b[0m\u001b[0;34m\u001b[0m\u001b[0;34m\u001b[0m\u001b[0m\n\u001b[1;32m      9\u001b[0m \u001b[0;31m#Model loss and accuracy\u001b[0m\u001b[0;34m\u001b[0m\u001b[0;34m\u001b[0m\u001b[0;34m\u001b[0m\u001b[0m\n\u001b[0;32m---> 10\u001b[0;31m \u001b[0mloss\u001b[0m\u001b[0;34m,\u001b[0m\u001b[0macc\u001b[0m \u001b[0;34m=\u001b[0m \u001b[0mmodel\u001b[0m\u001b[0;34m.\u001b[0m\u001b[0mevaluate\u001b[0m\u001b[0;34m(\u001b[0m\u001b[0mtest_images\u001b[0m\u001b[0;34m,\u001b[0m  \u001b[0mtest_labels\u001b[0m\u001b[0;34m,\u001b[0m \u001b[0mverbose\u001b[0m\u001b[0;34m=\u001b[0m\u001b[0;36m2\u001b[0m\u001b[0;34m)\u001b[0m\u001b[0;34m\u001b[0m\u001b[0;34m\u001b[0m\u001b[0m\n\u001b[0m",
      "\u001b[0;31mNameError\u001b[0m: name 'test_images' is not defined"
     ]
    }
   ],
   "source": [
    "from keras.models import model_from_json\n",
    "# serialize model to json\n",
    "json_model = model.to_json()\n",
    "#save the model architecture to JSON file\n",
    "with open('fashionmnist_model.json', 'w') as json_file:\n",
    "    json_file.write(json_model)\n",
    "#saving the weights of the model\n",
    "model.save_weights('FashionMNIST_weights.h5')\n",
    "#Model loss and accuracy\n",
    "loss,acc = model.evaluate(test_images,  test_labels, verbose=2)"
   ]
  },
  {
   "cell_type": "markdown",
   "id": "2072523a",
   "metadata": {
    "papermill": {
     "duration": null,
     "end_time": null,
     "exception": null,
     "start_time": null,
     "status": "pending"
    },
    "tags": []
   },
   "source": [
    "**Creating zip folder**"
   ]
  },
  {
   "cell_type": "code",
   "execution_count": null,
   "id": "45e851fe",
   "metadata": {
    "papermill": {
     "duration": null,
     "end_time": null,
     "exception": null,
     "start_time": null,
     "status": "pending"
    },
    "tags": []
   },
   "outputs": [],
   "source": [
    "!zip -r file.zip \"/kaggle/working/try_model.h5\""
   ]
  },
  {
   "cell_type": "markdown",
   "id": "89fd23f3",
   "metadata": {
    "papermill": {
     "duration": null,
     "end_time": null,
     "exception": null,
     "start_time": null,
     "status": "pending"
    },
    "tags": []
   },
   "source": [
    "**Load the model**"
   ]
  },
  {
   "cell_type": "code",
   "execution_count": null,
   "id": "8f5cd98a",
   "metadata": {
    "papermill": {
     "duration": null,
     "end_time": null,
     "exception": null,
     "start_time": null,
     "status": "pending"
    },
    "tags": []
   },
   "outputs": [],
   "source": [
    "from tensorflow.keras.models import load_model\n",
    "loaded_model = load_model(\"try_model.h5\")\n",
    "loaded_model.summary()"
   ]
  },
  {
   "cell_type": "markdown",
   "id": "4deca408",
   "metadata": {
    "papermill": {
     "duration": null,
     "end_time": null,
     "exception": null,
     "start_time": null,
     "status": "pending"
    },
    "tags": []
   },
   "source": [
    "**Removing unwanted files**"
   ]
  },
  {
   "cell_type": "code",
   "execution_count": null,
   "id": "97a1190b",
   "metadata": {
    "papermill": {
     "duration": null,
     "end_time": null,
     "exception": null,
     "start_time": null,
     "status": "pending"
    },
    "tags": []
   },
   "outputs": [],
   "source": [
    "#os.remove(\"/kaggle/working/file.zip\")"
   ]
  },
  {
   "cell_type": "markdown",
   "id": "b251bdc4",
   "metadata": {
    "id": "qUEi49qIAtVC",
    "papermill": {
     "duration": null,
     "end_time": null,
     "exception": null,
     "start_time": null,
     "status": "pending"
    },
    "tags": []
   },
   "source": [
    "#Visualise training/validation accuracy and loss"
   ]
  },
  {
   "cell_type": "code",
   "execution_count": null,
   "id": "e362090c",
   "metadata": {
    "id": "-OhT5JgLAtoU",
    "outputId": "1db80900-a3b7-4156-c3d4-44f0795a430f",
    "papermill": {
     "duration": null,
     "end_time": null,
     "exception": null,
     "start_time": null,
     "status": "pending"
    },
    "tags": []
   },
   "outputs": [],
   "source": [
    "import matplotlib.pyplot as plt\n",
    "plt.plot(hist.history[\"accuracy\"])\n",
    "plt.plot(hist.history['val_accuracy'])\n",
    "plt.plot(hist.history['loss'])\n",
    "plt.plot(hist.history['val_loss'])\n",
    "plt.title(\"model accuracy\")\n",
    "plt.ylabel(\"Accuracy\")\n",
    "plt.xlabel(\"Epoch\")\n",
    "plt.legend([\"Accuracy\",\"Validation Accuracy\",\"loss\",\"Validation Loss\"])\n",
    "plt.show()"
   ]
  }
 ],
 "metadata": {
  "kernelspec": {
   "display_name": "Python 3",
   "language": "python",
   "name": "python3"
  },
  "language_info": {
   "codemirror_mode": {
    "name": "ipython",
    "version": 3
   },
   "file_extension": ".py",
   "mimetype": "text/x-python",
   "name": "python",
   "nbconvert_exporter": "python",
   "pygments_lexer": "ipython3",
   "version": "3.7.12"
  },
  "papermill": {
   "default_parameters": {},
   "duration": 36632.722658,
   "end_time": "2023-03-17T07:25:00.499147",
   "environment_variables": {},
   "exception": true,
   "input_path": "__notebook__.ipynb",
   "output_path": "__notebook__.ipynb",
   "parameters": {},
   "start_time": "2023-03-16T21:14:27.776489",
   "version": "2.4.0"
  }
 },
 "nbformat": 4,
 "nbformat_minor": 5
}
